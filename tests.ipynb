{
 "cells": [
  {
   "cell_type": "code",
   "execution_count": 3,
   "id": "4e140c20",
   "metadata": {},
   "outputs": [],
   "source": [
    "from catseq.model_new import ChannelObject, TensorObject\n",
    "from catseq.protocols import Channel\n",
    "from catseq.hardware.ttl import TTLDevice\n",
    "from catseq.states.ttl import TTLOutputOn, TTLOutputOff"
   ]
  },
  {
   "cell_type": "code",
   "execution_count": 4,
   "id": "8cb40eb0",
   "metadata": {},
   "outputs": [],
   "source": [
    "ttl0 = Channel(\"TTL_0\", TTLDevice)\n",
    "ttl_on = TTLOutputOn()\n",
    "channel_obj = ChannelObject(ttl0, ttl_on)"
   ]
  },
  {
   "cell_type": "code",
   "execution_count": 11,
   "id": "f8cb89a4",
   "metadata": {},
   "outputs": [
    {
     "data": {
      "text/plain": [
       "TTLOutputOn()"
      ]
     },
     "execution_count": 11,
     "metadata": {},
     "output_type": "execute_result"
    }
   ],
   "source": [
    "channel_obj.get_state(channel_obj.channel)"
   ]
  },
  {
   "cell_type": "code",
   "execution_count": null,
   "id": "0d11ed36",
   "metadata": {},
   "outputs": [],
   "source": []
  }
 ],
 "metadata": {
  "kernelspec": {
   "display_name": "catseq",
   "language": "python",
   "name": "python3"
  },
  "language_info": {
   "codemirror_mode": {
    "name": "ipython",
    "version": 3
   },
   "file_extension": ".py",
   "mimetype": "text/x-python",
   "name": "python",
   "nbconvert_exporter": "python",
   "pygments_lexer": "ipython3",
   "version": "3.12.11"
  }
 },
 "nbformat": 4,
 "nbformat_minor": 5
}
