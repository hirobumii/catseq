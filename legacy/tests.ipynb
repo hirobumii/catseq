{
 "cells": [
  {
   "cell_type": "code",
   "execution_count": 1,
   "id": "4e140c20",
   "metadata": {},
   "outputs": [],
   "source": [
    "from ttl_minimal import *"
   ]
  },
  {
   "cell_type": "code",
   "execution_count": 47,
   "id": "0d11ed36",
   "metadata": {},
   "outputs": [],
   "source": [
    "board0 = Board(\"rwg0\")\n",
    "board1 = Board(\"rwg1\")\n",
    "cooling_laser_sw = Channel(board0, 0)\n",
    "repump_laser_sw = Channel(board0, 1)\n",
    "imaging_laser_sw = Channel(board1, 0)\n",
    "\n",
    "def pulse(channel: Channel, duration: float)-> Morphism:\n",
    "    return from_atomic(ttl_on(channel)) >> wait(duration) >> ttl_off(channel)"
   ]
  },
  {
   "cell_type": "code",
   "execution_count": 7,
   "id": "60f2bde5",
   "metadata": {},
   "outputs": [],
   "source": [
    "init_all = ttl_init(cooling_laser_sw) | ttl_init(repump_laser_sw) | ttl_init(imaging_laser_sw)\n",
    "pulse1 = from_atomic(ttl_on(cooling_laser_sw)) >> wait(10.0) >> ttl_off(cooling_laser_sw)\n",
    "pulse2 = from_atomic(ttl_on(repump_laser_sw)) >> wait(10.0) >> ttl_off(repump_laser_sw)\n",
    "\n",
    "seq = init_all @ (pulse1 | pulse2)"
   ]
  },
  {
   "cell_type": "code",
   "execution_count": 50,
   "id": "258cf5e3",
   "metadata": {},
   "outputs": [
    {
     "name": "stdout",
     "output_type": "stream",
     "text": [
      "Lanes View (10.0μs):\n",
      "================================================================================\n",
      "rwg0_TTL_0           │ ON → wait(10.0μs) → OFF\n"
     ]
    }
   ],
   "source": [
    "pulse1 = pulse(cooling_laser_sw, 10.0)\n",
    "print(pulse1.lanes_view())"
   ]
  },
  {
   "cell_type": "code",
   "execution_count": 46,
   "id": "ee152507",
   "metadata": {},
   "outputs": [
    {
     "data": {
      "text/plain": [
       "{Channel(board=Board(id='rwg1'), local_id=0): Lane(operations=(AtomicMorphism(channel=Channel(board=Board(id='rwg1'), local_id=0), start_state=<TTLState.UNINITIALIZED: -1>, end_state=<TTLState.OFF: 0>, duration_cycles=1, operation_type='ttl_init'), AtomicMorphism(channel=Channel(board=Board(id='rwg1'), local_id=0), start_state=<TTLState.OFF: 0>, end_state=<TTLState.OFF: 0>, duration_cycles=2502, operation_type='identity'))),\n",
       " Channel(board=Board(id='rwg0'), local_id=1): Lane(operations=(AtomicMorphism(channel=Channel(board=Board(id='rwg0'), local_id=1), start_state=<TTLState.UNINITIALIZED: -1>, end_state=<TTLState.OFF: 0>, duration_cycles=1, operation_type='ttl_init'), AtomicMorphism(channel=Channel(board=Board(id='rwg0'), local_id=1), start_state=<TTLState.OFF: 0>, end_state=<TTLState.ON: 1>, duration_cycles=1, operation_type='ttl_on'), AtomicMorphism(channel=Channel(board=Board(id='rwg0'), local_id=1), start_state=<TTLState.ON: 1>, end_state=<TTLState.ON: 1>, duration_cycles=2500, operation_type='wait'), AtomicMorphism(channel=Channel(board=Board(id='rwg0'), local_id=1), start_state=<TTLState.ON: 1>, end_state=<TTLState.OFF: 0>, duration_cycles=1, operation_type='ttl_off'))),\n",
       " Channel(board=Board(id='rwg0'), local_id=0): Lane(operations=(AtomicMorphism(channel=Channel(board=Board(id='rwg0'), local_id=0), start_state=<TTLState.UNINITIALIZED: -1>, end_state=<TTLState.OFF: 0>, duration_cycles=1, operation_type='ttl_init'), AtomicMorphism(channel=Channel(board=Board(id='rwg0'), local_id=0), start_state=<TTLState.OFF: 0>, end_state=<TTLState.ON: 1>, duration_cycles=1, operation_type='ttl_on'), AtomicMorphism(channel=Channel(board=Board(id='rwg0'), local_id=0), start_state=<TTLState.ON: 1>, end_state=<TTLState.ON: 1>, duration_cycles=2500, operation_type='wait'), AtomicMorphism(channel=Channel(board=Board(id='rwg0'), local_id=0), start_state=<TTLState.ON: 1>, end_state=<TTLState.OFF: 0>, duration_cycles=1, operation_type='ttl_off')))}"
      ]
     },
     "execution_count": 46,
     "metadata": {},
     "output_type": "execute_result"
    }
   ],
   "source": [
    "seq.lanes"
   ]
  },
  {
   "cell_type": "code",
   "execution_count": null,
   "id": "2fb86f18",
   "metadata": {},
   "outputs": [],
   "source": []
  }
 ],
 "metadata": {
  "kernelspec": {
   "display_name": "catseq",
   "language": "python",
   "name": "python3"
  },
  "language_info": {
   "codemirror_mode": {
    "name": "ipython",
    "version": 3
   },
   "file_extension": ".py",
   "mimetype": "text/x-python",
   "name": "python",
   "nbconvert_exporter": "python",
   "pygments_lexer": "ipython3",
   "version": "3.12.11"
  }
 },
 "nbformat": 4,
 "nbformat_minor": 5
}
